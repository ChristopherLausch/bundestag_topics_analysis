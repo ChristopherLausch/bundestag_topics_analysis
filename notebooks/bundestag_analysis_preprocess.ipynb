{
 "cells": [
  {
   "cell_type": "code",
   "execution_count": 3,
   "metadata": {
    "collapsed": true,
    "ExecuteTime": {
     "end_time": "2025-03-25T11:07:09.934239900Z",
     "start_time": "2025-03-25T11:07:06.492244100Z"
    }
   },
   "outputs": [],
   "source": [
    "import pandas as pd\n",
    "import spacy\n",
    "import nltk\n",
    "from nltk.corpus import stopwords\n",
    "import re"
   ]
  },
  {
   "cell_type": "code",
   "execution_count": 4,
   "outputs": [
    {
     "name": "stdout",
     "output_type": "stream",
     "text": [
      "           id                 title  \\\n",
      "0  2021400100        Johannes Vogel   \n",
      "1  2021400200  Dr. Johannes Fechner   \n",
      "2  2021400300     Dr. Bernd Baumann   \n",
      "3  2021400400         Thorsten Frei   \n",
      "4  2021400500     Dr. Irene Mihalic   \n",
      "\n",
      "                                                text        date  protocol_id  \\\n",
      "0  Frau Präsidentin! Liebe Kolleginnen und Kolleg...  2025-03-18         5701   \n",
      "1  Frau Präsidentin! Liebe Kolleginnen und Kolleg...  2025-03-18         5701   \n",
      "2  Frau Präsidentin! Meine Damen und Herren! Eine...  2025-03-18         5701   \n",
      "3  Sehr geehrte Frau Präsidentin! Liebe Kolleginn...  2025-03-18         5701   \n",
      "4  Sehr geehrte Frau Präsidentin! Liebe Kolleginn...  2025-03-18         5701   \n",
      "\n",
      "  protocol_number page_start  page_end topics  speaker_id  ...  \\\n",
      "0          20/214        NaN       NaN    NaN    11004179  ...   \n",
      "1          20/214        NaN       NaN    NaN    11004270  ...   \n",
      "2          20/214        NaN       NaN    NaN    11004662  ...   \n",
      "3          20/214        NaN       NaN    NaN    11004276  ...   \n",
      "4          20/214        NaN       NaN    NaN    11004353  ...   \n",
      "\n",
      "  speaker_last_name speaker_title          speaker_party speaker_role  \\\n",
      "0             Vogel           NaN                    FDP          NaN   \n",
      "1           Fechner           Dr.                    SPD          NaN   \n",
      "2           Baumann           Dr.                    AfD          NaN   \n",
      "3              Frei           NaN                CDU/CSU          NaN   \n",
      "4           Mihalic           Dr.  BÜNDNIS 90/DIE GRÜNEN          NaN   \n",
      "\n",
      "   speaker_function  speaker_ministry  speaker_state  is_interjection  \\\n",
      "0               NaN               NaN            NaN            False   \n",
      "1               NaN               NaN            NaN            False   \n",
      "2               NaN               NaN            NaN            False   \n",
      "3               NaN               NaN            NaN            False   \n",
      "4               NaN               NaN            NaN            False   \n",
      "\n",
      "   is_president  page_section  \n",
      "0         False           NaN  \n",
      "1         False           NaN  \n",
      "2         False           NaN  \n",
      "3         False           NaN  \n",
      "4         False           NaN  \n",
      "\n",
      "[5 rows x 21 columns]\n"
     ]
    }
   ],
   "source": [
    "df = pd.read_csv(\"../data/bundestag_wp20_speeches.csv\")\n",
    "\n",
    "# Display the first few rows\n",
    "print(df.head())"
   ],
   "metadata": {
    "collapsed": false,
    "ExecuteTime": {
     "end_time": "2025-03-25T11:07:12.909576100Z",
     "start_time": "2025-03-25T11:07:11.591294300Z"
    }
   }
  },
  {
   "cell_type": "code",
   "execution_count": 5,
   "outputs": [],
   "source": [
    "# ToDo\n",
    "#  check if all procedural remarks are deleted\n",
    "#  check if we want to add zwischenrufe\n",
    "#  research question 3"
   ],
   "metadata": {
    "collapsed": false,
    "ExecuteTime": {
     "end_time": "2025-03-25T11:07:12.911481400Z",
     "start_time": "2025-03-25T11:07:12.908575600Z"
    }
   }
  },
  {
   "cell_type": "code",
   "execution_count": 6,
   "outputs": [],
   "source": [
    "# Splitting of the date column into days/weeks/months/year\n",
    "df[\"date\"] = pd.to_datetime(df[\"date\"], format=\"ISO8601\")\n",
    "df[\"year\"] = df[\"date\"].dt.year\n",
    "df[\"month\"] = df[\"date\"].dt.month\n",
    "df[\"day\"] = df[\"date\"].dt.day\n",
    "\n",
    "df = df.sort_values(by=\"date\")\n"
   ],
   "metadata": {
    "collapsed": false,
    "ExecuteTime": {
     "end_time": "2025-03-25T11:07:13.035363700Z",
     "start_time": "2025-03-25T11:07:13.022120300Z"
    }
   }
  },
  {
   "cell_type": "code",
   "execution_count": 7,
   "outputs": [
    {
     "data": {
      "text/plain": "             id                title  \\\n26066  20101400            Petra Pau   \n26053  20100100   Gabriele Katzmarek   \n26054  20100200        Stefan Müller   \n26055  20100300     Britta Haßelmann   \n26056  20100400  Dr. Marco Buschmann   \n\n                                                    text       date  \\\n26066  Frau Präsidentin, ich nehme die Wahl an und fr... 2021-10-26   \n26053  Sehr geehrter Herr Alterspräsident! So muss ic... 2021-10-26   \n26054  Herr Präsident! Liebe Kolleginnen und Kollegen... 2021-10-26   \n26055  Sehr geehrter Herr Alterspräsident Wolfgang Sc... 2021-10-26   \n26056  Sehr geehrter Herr Präsident! Meine lieben Kol... 2021-10-26   \n\n       protocol_id protocol_number page_start  page_end topics  speaker_id  \\\n26066         5432            20/1        NaN       NaN    NaN    11003206   \n26053         5432            20/1        NaN       NaN    NaN    11004325   \n26054         5432            20/1        NaN       NaN    NaN    11003597   \n26055         5432            20/1        NaN       NaN    NaN    11003764   \n26056         5432            20/1        NaN       NaN    NaN    11004023   \n\n       ... speaker_role speaker_function speaker_ministry speaker_state  \\\n26066  ...          NaN              NaN              NaN           NaN   \n26053  ...          NaN              NaN              NaN           NaN   \n26054  ...          NaN              NaN              NaN           NaN   \n26055  ...          NaN              NaN              NaN           NaN   \n26056  ...          NaN              NaN              NaN           NaN   \n\n       is_interjection  is_president  page_section  year  month  day  \n26066            False         False           NaN  2021     10   26  \n26053            False         False           NaN  2021     10   26  \n26054            False         False           NaN  2021     10   26  \n26055            False         False           NaN  2021     10   26  \n26056            False         False           NaN  2021     10   26  \n\n[5 rows x 24 columns]",
      "text/html": "<div>\n<style scoped>\n    .dataframe tbody tr th:only-of-type {\n        vertical-align: middle;\n    }\n\n    .dataframe tbody tr th {\n        vertical-align: top;\n    }\n\n    .dataframe thead th {\n        text-align: right;\n    }\n</style>\n<table border=\"1\" class=\"dataframe\">\n  <thead>\n    <tr style=\"text-align: right;\">\n      <th></th>\n      <th>id</th>\n      <th>title</th>\n      <th>text</th>\n      <th>date</th>\n      <th>protocol_id</th>\n      <th>protocol_number</th>\n      <th>page_start</th>\n      <th>page_end</th>\n      <th>topics</th>\n      <th>speaker_id</th>\n      <th>...</th>\n      <th>speaker_role</th>\n      <th>speaker_function</th>\n      <th>speaker_ministry</th>\n      <th>speaker_state</th>\n      <th>is_interjection</th>\n      <th>is_president</th>\n      <th>page_section</th>\n      <th>year</th>\n      <th>month</th>\n      <th>day</th>\n    </tr>\n  </thead>\n  <tbody>\n    <tr>\n      <th>26066</th>\n      <td>20101400</td>\n      <td>Petra Pau</td>\n      <td>Frau Präsidentin, ich nehme die Wahl an und fr...</td>\n      <td>2021-10-26</td>\n      <td>5432</td>\n      <td>20/1</td>\n      <td>NaN</td>\n      <td>NaN</td>\n      <td>NaN</td>\n      <td>11003206</td>\n      <td>...</td>\n      <td>NaN</td>\n      <td>NaN</td>\n      <td>NaN</td>\n      <td>NaN</td>\n      <td>False</td>\n      <td>False</td>\n      <td>NaN</td>\n      <td>2021</td>\n      <td>10</td>\n      <td>26</td>\n    </tr>\n    <tr>\n      <th>26053</th>\n      <td>20100100</td>\n      <td>Gabriele Katzmarek</td>\n      <td>Sehr geehrter Herr Alterspräsident! So muss ic...</td>\n      <td>2021-10-26</td>\n      <td>5432</td>\n      <td>20/1</td>\n      <td>NaN</td>\n      <td>NaN</td>\n      <td>NaN</td>\n      <td>11004325</td>\n      <td>...</td>\n      <td>NaN</td>\n      <td>NaN</td>\n      <td>NaN</td>\n      <td>NaN</td>\n      <td>False</td>\n      <td>False</td>\n      <td>NaN</td>\n      <td>2021</td>\n      <td>10</td>\n      <td>26</td>\n    </tr>\n    <tr>\n      <th>26054</th>\n      <td>20100200</td>\n      <td>Stefan Müller</td>\n      <td>Herr Präsident! Liebe Kolleginnen und Kollegen...</td>\n      <td>2021-10-26</td>\n      <td>5432</td>\n      <td>20/1</td>\n      <td>NaN</td>\n      <td>NaN</td>\n      <td>NaN</td>\n      <td>11003597</td>\n      <td>...</td>\n      <td>NaN</td>\n      <td>NaN</td>\n      <td>NaN</td>\n      <td>NaN</td>\n      <td>False</td>\n      <td>False</td>\n      <td>NaN</td>\n      <td>2021</td>\n      <td>10</td>\n      <td>26</td>\n    </tr>\n    <tr>\n      <th>26055</th>\n      <td>20100300</td>\n      <td>Britta Haßelmann</td>\n      <td>Sehr geehrter Herr Alterspräsident Wolfgang Sc...</td>\n      <td>2021-10-26</td>\n      <td>5432</td>\n      <td>20/1</td>\n      <td>NaN</td>\n      <td>NaN</td>\n      <td>NaN</td>\n      <td>11003764</td>\n      <td>...</td>\n      <td>NaN</td>\n      <td>NaN</td>\n      <td>NaN</td>\n      <td>NaN</td>\n      <td>False</td>\n      <td>False</td>\n      <td>NaN</td>\n      <td>2021</td>\n      <td>10</td>\n      <td>26</td>\n    </tr>\n    <tr>\n      <th>26056</th>\n      <td>20100400</td>\n      <td>Dr. Marco Buschmann</td>\n      <td>Sehr geehrter Herr Präsident! Meine lieben Kol...</td>\n      <td>2021-10-26</td>\n      <td>5432</td>\n      <td>20/1</td>\n      <td>NaN</td>\n      <td>NaN</td>\n      <td>NaN</td>\n      <td>11004023</td>\n      <td>...</td>\n      <td>NaN</td>\n      <td>NaN</td>\n      <td>NaN</td>\n      <td>NaN</td>\n      <td>False</td>\n      <td>False</td>\n      <td>NaN</td>\n      <td>2021</td>\n      <td>10</td>\n      <td>26</td>\n    </tr>\n  </tbody>\n</table>\n<p>5 rows × 24 columns</p>\n</div>"
     },
     "execution_count": 7,
     "metadata": {},
     "output_type": "execute_result"
    }
   ],
   "source": [
    "df.head()"
   ],
   "metadata": {
    "collapsed": false,
    "ExecuteTime": {
     "end_time": "2025-03-25T11:07:14.263031200Z",
     "start_time": "2025-03-25T11:07:14.233261900Z"
    }
   }
  },
  {
   "cell_type": "code",
   "execution_count": 8,
   "outputs": [
    {
     "data": {
      "text/plain": "text\nsehr geehrte frau präsidentin! liebe kolleginnen u    3610\nfrau präsidentin! liebe kolleginnen und kollegen!     1842\nsehr geehrte frau präsidentin! sehr geehrte damen      917\nsehr geehrter herr präsident! liebe kolleginnen un     736\nsehr geehrte frau präsidentin! sehr geehrte kolleg     640\nsehr geehrte frau präsidentin! meine damen und her     487\nfrau präsidentin! meine sehr verehrten damen und h     387\nsehr geehrte frau präsidentin! meine sehr geehrten     379\nsehr geehrte frau präsidentin! werte kolleginnen u     365\nfrau präsidentin! meine sehr geehrten damen und he     309\nsehr geehrte frau präsidentin! sehr geehrter herr      258\nsehr geehrte frau präsidentin! kolleginnen und kol     232\nsehr geehrter herr präsident! sehr geehrte damen u     193\nsehr geehrte frau präsidentin! meine sehr verehrte     189\nsehr geehrte frau präsidentin! verehrte kolleginne     168\nvielen dank. – frau präsidentin! liebe kolleginnen     151\nfrau präsidentin! sehr geehrte kolleginnen und kol     150\nsehr geehrter herr präsident! sehr geehrte kollegi     133\nfrau präsidentin! verehrte kolleginnen und kollege     111\nsehr geehrter herr präsident! meine damen und herr     108\nsehr geehrte frau präsidentin! liebe kolleginnen!      103\nfrau präsidentin! werte kolleginnen und kollegen!      102\nsehr geehrte frau präsidentin! geschätzte kollegin      99\nsehr geehrte frau präsidentin! sehr geehrte frau m      92\nsehr geehrte präsidentin! liebe kolleginnen und ko      91\nherr präsident! meine sehr verehrten damen und her      86\nfrau präsidentin! meine lieben kolleginnen und kol      74\nverehrte frau präsidentin! liebe kolleginnen und k      71\nsehr geehrter herr präsident! werte kolleginnen un      71\nsehr geehrter herr präsident! meine sehr geehrten       71\nsehr geehrte frau präsidentin! meine lieben kolleg      69\nfrau präsidentin! liebe kolleginnen! liebe kollege      68\nvielen dank. – sehr geehrte frau präsidentin! lieb      67\nliebe frau präsidentin! liebe kolleginnen und koll      66\nvielen dank, frau präsidentin. – sehr geehrter her      65\nfrau präsidentin! sehr geehrte damen und herren! l      63\nvielen dank, frau präsidentin. – frau ministerin,       52\nsehr geehrter herr präsident! meine sehr verehrten      51\nfrau präsidentin! meine damen und herren! liebe ko      48\nfrau präsidentin! meine sehr verehrten kolleginnen      47\nherr präsident! meine sehr geehrten damen und herr      47\nsehr geehrter herr präsident! kolleginnen und koll      46\nsehr verehrte frau präsidentin! liebe kolleginnen       44\nvielen dank. – frau präsidentin! meine sehr geehrt      43\nsehr geehrter herr präsident! verehrte kolleginnen      42\nfrau präsidentin! sehr geehrte damen und herren! d      42\nvielen dank. – frau präsidentin! meine damen und h      42\nvielen dank, frau präsidentin. – liebe kolleginnen      42\nsehr geehrte frau präsidentin! sehr geehrte abgeor      39\nsehr geehrte präsidentin! meine damen und herren!       39\nName: count, dtype: int64"
     },
     "execution_count": 8,
     "metadata": {},
     "output_type": "execute_result"
    }
   ],
   "source": [
    "df[\"text\"].str.lower().str.strip().str[:50].value_counts().head(50)"
   ],
   "metadata": {
    "collapsed": false,
    "ExecuteTime": {
     "end_time": "2025-03-25T11:07:16.736890Z",
     "start_time": "2025-03-25T11:07:15.889573400Z"
    }
   }
  },
  {
   "cell_type": "code",
   "execution_count": 9,
   "outputs": [],
   "source": [
    "# optimized_pattern = re.compile(\n",
    "#     r\"^(sehr geehrte(?:r)? (?:frau|herr)?(?: präsident(?:in)?)?\"  # Matches \"Sehr geehrte(r) Frau/Herr Präsident(in)\"\n",
    "#     r\"[,!\\s]*\"  # Allows optional punctuation and spaces\n",
    "#     r\"(?:meine )?(?:sehr )?(?:verehrten|verehrte|geschätzten|geehrte|geehrten|liebe)? ?\"  # Allows \"meine\", \"sehr\", and other honorifics\n",
    "#     r\"(?:damen und herren|kolleginnen und kollegen)?\"  # Covers \"Damen und Herren\" or \"Kolleginnen und Kollegen\"\n",
    "#     r\"[,!\\s]*\"\n",
    "#     r\"(?:liebe|sehr geehrte|geschätzte)? ?(?:kolleginnen und kollegen|damen und herren)?\"  # Ensures \"liebe Kolleginnen und Kollegen\" works\n",
    "#     r\"(?:[,!\\s]*(?:der demokratischen fraktionen)?)?\"  # Allows optional mention of \"der demokratischen Fraktionen\"\n",
    "#     r\")\",\n",
    "#     re.IGNORECASE | re.MULTILINE\n",
    "# )\n"
   ],
   "metadata": {
    "collapsed": false,
    "ExecuteTime": {
     "end_time": "2025-03-25T11:07:18.639086900Z",
     "start_time": "2025-03-25T11:07:18.612056900Z"
    }
   }
  },
  {
   "cell_type": "code",
   "execution_count": 10,
   "outputs": [],
   "source": [
    "optimized_pattern = re.compile(\n",
    "    r\"^((?:vielen|herzlichen) dank(?:. – |, ))?\" # catch beginning of \"vielen/herzlichen dank - \"\n",
    "    r\"(((sehr (?:geehrte|verehrte)(?:r)? )?\"\n",
    "    r\"(?:frau|herr|glück auf|moin,)?( )?(?:(bundestags|alters)?präsident(?:in)?)?)?\" # Catch any combination of sehr geehrte/verehrte Frau (Bundestags)Präsidentin\n",
    "    r\"[,!\\s]*\"\n",
    "    r\"(((sehr (?:geehrte|verehrte)(?:r)? )\" # Catch any greetings to the kanzler/minister/regierung\n",
    "    r\"?(?:frau|herr)?(?: (bundes)kanzler|(bundes)minister|(bundes)regierung(?:in)?)?)?)?\"\n",
    "    r\"[,!\\s]*\"\n",
    "    r\"(?:meine\\s+)?(?:sehr\\s+)?\"\n",
    "    r\"(?:(verehrte|geschätzte|geehrte|liebe|werte)(?:n|r|s)?)?\"\n",
    "    r\"\\s*\"\n",
    "    r\"(und)?\"\n",
    "    r\"(?:damen\\s+und\\s+herren|(kolleginnen\\s+und\\s+)?kollegen)?\" # catch damen und herren/kolleginnen und kollegen\n",
    "    r\"(abgeordnete)?\"\n",
    "    r\"[,!\\s]*\"\n",
    "    r\"(?:(liebe|sehr\\s+geehrte|geschätzte|werte)(?:n|r|s)?)?\\s*(und)?\"\n",
    "    r\"(?:kolleginnen\\s+und\\s+kollegen|damen\\s+und\\s+herren|publikum|präsidium|bürger(innen)|besucher(innen)\\s+und\\s+besucher)?\" # catch damen und herren/kolleginnen und kollegen and other common persons/groups\n",
    "    r\"(auf den tribünen)?\"\n",
    "    r\"(?:[,!\\s]*(?:der\\s+demokratischen\\s+fraktionen)?)?)*\"\n",
    "    ,\n",
    "    re.IGNORECASE | re.MULTILINE\n",
    ")\n"
   ],
   "metadata": {
    "collapsed": false,
    "ExecuteTime": {
     "end_time": "2025-03-25T11:07:19.491562Z",
     "start_time": "2025-03-25T11:07:19.461432500Z"
    }
   }
  },
  {
   "cell_type": "code",
   "execution_count": 11,
   "outputs": [],
   "source": [
    "# optimized_pattern = re.compile(\n",
    "#     r\"^(vielen dank. – )?(((sehr (?:geehrte|verehrte)(?:r)? )?(?:frau|herr)?(?: präsident(?:in)?)?)?[,!\\s]*(?:meine\\s+)?(?:sehr\\s+)?(?:(verehrte|geschätzte|geehrte|liebe)(?:n))?\\s*(?:damen\\s+und\\s+herren|kolleginnen\\s+und\\s+kollegen)?[,!\\s]*(?:liebe|sehr\\s+geehrte|geschätzte)?\\s*(?:kolleginnen\\s+und\\s+kollegen|damen\\s+und\\s+herren)?(?:[,!\\s]*(?:der\\s+demokratischen\\s+fraktionen)?)?)\")\n"
   ],
   "metadata": {
    "collapsed": false,
    "ExecuteTime": {
     "end_time": "2025-03-25T11:07:20.611077Z",
     "start_time": "2025-03-25T11:07:20.591584200Z"
    }
   }
  },
  {
   "cell_type": "code",
   "execution_count": 12,
   "outputs": [
    {
     "data": {
      "text/plain": "re.compile(r'^((?:vielen|herzlichen) dank(?:.\\xa0– |, ))?(((sehr (?:geehrte|verehrte)(?:r)? )?(?:frau|herr|glück auf|moin,)?( )?(?:(bundestags|alters)?präsident(?:in)?)?)?[,!\\s]*(((sehr (?:geehrte|verehrte)(?:r)? )?(?:frau|herr)?(?: (bundes)kanzler|(bundes)minister|(bundes)regierung(?:in)?)?)?)?[,!\\s]*(?:meine\\s+)?(?:sehr\\s+)?(?:(verehrte|geschätzte|geehrte|liebe|werte)(?:n|r|s)?)?\\s*(und)?(?:damen\\s+und\\s+herren|(kolleginnen\\s+und\\s+)?kollegen)?(abgeordnete)?[,!\\s]*(?:(liebe|sehr\\s+geehrte|geschätzte|werte)(?:n|r|s)?)?\\s*(und)?(?:kolleginnen\\s+und\\s+kollegen|damen\\s+und\\s+herren|publikum|präsidium|bürger(innen)|besucher(innen)\\s+und\\s+besucher)?(auf den tribünen)?(?:[,!\\s]*(?:der\\s+demokratischen\\s+fraktionen)?)?)*',\n           re.IGNORECASE|re.MULTILINE|re.UNICODE)"
     },
     "execution_count": 12,
     "metadata": {},
     "output_type": "execute_result"
    }
   ],
   "source": [
    "optimized_pattern"
   ],
   "metadata": {
    "collapsed": false,
    "ExecuteTime": {
     "end_time": "2025-03-25T11:07:21.887978500Z",
     "start_time": "2025-03-25T11:07:21.879039500Z"
    }
   }
  },
  {
   "cell_type": "code",
   "execution_count": 13,
   "outputs": [],
   "source": [
    "def preprocess_text(text):\n",
    "    # Lowercasing\n",
    "    text = text.lower()\n",
    "\n",
    "    # Remove punctuation and digits\n",
    "    #text = re.sub(r'\\W+', ' ', text)\n",
    "    #text = re.sub(r'\\d+', '', text)\n",
    "\n",
    "    text = text.strip()\n",
    "\n",
    "    text = re.sub(optimized_pattern, \"\", text).strip()  # Remove pattern if at the start\n",
    "\n",
    "    return text"
   ],
   "metadata": {
    "collapsed": false,
    "ExecuteTime": {
     "end_time": "2025-03-25T11:07:23.382921400Z",
     "start_time": "2025-03-25T11:07:23.367062700Z"
    }
   }
  },
  {
   "cell_type": "code",
   "execution_count": 14,
   "outputs": [],
   "source": [
    "df[\"processed_text\"] = df[\"text\"].astype(str).apply(preprocess_text)"
   ],
   "metadata": {
    "collapsed": false,
    "ExecuteTime": {
     "end_time": "2025-03-25T11:07:41.359739800Z",
     "start_time": "2025-03-25T11:07:30.773633900Z"
    }
   }
  },
  {
   "cell_type": "code",
   "execution_count": 15,
   "outputs": [
    {
     "data": {
      "text/plain": "processed_text\ns: stellungnahme gemäß artikel 76 \\nabsatz 2 gg  .     23\nbürger! frau präsidentin! meine damen und herren!      20\nsordnung  . . . . . . . . . . . . . . . . . . . .      17\nwehrbeauftragte! liebe kolleginnen und kollegen! m     13\nministerin! liebe kolleginnen und kollegen! liebe      12\nkolleginnen! liebe kollegen! liebe bürgerinnen und     11\nkolleginnen! liebe kollegen! sehr geehrte damen un     11\nstaatssekretärin! liebe kolleginnen und kollegen!      10\nguten morgen, frau präsidentin! liebe kolleginnen      10\nng: überweisung an die zuständigen \\nausschüsse  .     10\nministerin! liebe kolleginnen und kollegen! meine      10\nkolleginnen! liebe kollegen! meine sehr geehrten d     10\nich schwöre es, so wahr mir gott helfe.\\nherzlichen     8\ngrüß gott, frau präsidentin! meine sehr verehrten       8\nlandsleute! und natürlich: werte leugner des natür      8\nder demokratischen parteien! sehr geehrte damen un      8\nministerin! sehr geehrte kolleginnen und kollegen!      7\n. – meine frage richtet sich an den bundesminister      7\nordnung . . . . . . . . . . . . . . . . . . . . .       7\n. benjamin-immanuel hoff\\n(thüringen)  . . . . . .      7\nhlag für eine verordnung des\\neuropäischen parlamen     6\n0445 köln \\ntelefon (02 21) 97 66 83 40, fax (02 21     6\n(stephan brandner [afd]: „deutsche demokratische a      6\n: stellungnahme gemäß artikel 76 \\nabsatz 2 gg . .      6\nmartin (mecklenburg-\\nvorpommern)  . . . . . . . .      6\nich schwöre es.\\nherzlichen glückwunsch und alles g     6\nministerin! liebe kolleginnen und kollegen! sehr g      6\ns: kein antrag gemäß artikel 77 \\nabsatz 2 gg  . .      6\nhochverehrte frau präsidentin! liebe kolleginnen u      6\nl liminski (nordrhein-\\nwestfalen)  . . . . . . . .     5\n. kerstin von der decken\\n(schleswig-holstein)  . .     5\nhochverehrter herr präsident! liebe kolleginnen un      5\nkolleginnen! liebe kollegen! sehr geehrter herr mi      5\nministerin schulze! liebe kolleginnen und kollegen      5\nbundeswirtschaftsminister! liebe kolleginnen und k      5\nschwesig (mecklenburg-\\nvorpommern)  . . . . . . .      5\nwehrbeauftragte! meine sehr verehrten damen und he      5\n. karl lauterbach,\\nfür gesundheit  . . . . . . . .     5\nminister! liebe kolleginnen und kollegen! sehr gee      5\nhochverehrte frau präsidentin! sehr geehrte kolleg      5\nbenjamin-immanuel hoff\\n(thüringen) . . . . . . . .     5\nurf eines ... gesetzes zur änderung des \\nstrafgese     5\nmitteilungen  . . . . . . . . . . . . . . . . . .       5\ndanke schön. – sehr geehrte frau präsidentin! lieb      5\nwehrbeauftragte! liebe kolleginnen und kollegen! s      5\nich schwöre, dass ich meine kraft dem wohle des de      5\nminister! liebe kolleginnen und kollegen der demok      4\nwehrbeauftragte! herr minister! sehr geehrte kolle      4\n. – liebe kolleginnen und kollegen! sehr geehrte d      4\nwehrbeauftragte! liebe kolleginnen und kollegen! d      4\nName: count, dtype: int64"
     },
     "execution_count": 15,
     "metadata": {},
     "output_type": "execute_result"
    }
   ],
   "source": [
    "df[\"processed_text\"].str.lower().str[:50].value_counts().head(50)"
   ],
   "metadata": {
    "collapsed": false,
    "ExecuteTime": {
     "end_time": "2025-03-25T11:07:42.092403Z",
     "start_time": "2025-03-25T11:07:41.355737100Z"
    }
   }
  },
  {
   "cell_type": "code",
   "execution_count": 16,
   "outputs": [
    {
     "data": {
      "text/plain": "                                          processed_text  \\\n26066  ich nehme die wahl an und freue mich auf die z...   \n26053  so muss ich es jetzt sagen, genau; ich muss mi...   \n26054  die konstituierung des bundestages ist ein fes...   \n26055  wolfgang schäuble! sehr geehrte kolleginnen un...   \n26056  als ich gestern insbesondere die neuen kollegi...   \n...                                                  ...   \n26     unser alltag im bundestag ist ja oft sehr hekt...   \n25     die gute nachricht vorneweg: eine dreistündige...   \n24     es wird in dieser so ernsten und wichtigen ang...   \n34     – –\\n(die abgeordneten des bsw halten transpar...   \n0      ich möchte drei bemerkungen machen.\\nerstens, ...   \n\n                                                    text  \\\n26066  Frau Präsidentin, ich nehme die Wahl an und fr...   \n26053  Sehr geehrter Herr Alterspräsident! So muss ic...   \n26054  Herr Präsident! Liebe Kolleginnen und Kollegen...   \n26055  Sehr geehrter Herr Alterspräsident Wolfgang Sc...   \n26056  Sehr geehrter Herr Präsident! Meine lieben Kol...   \n...                                                  ...   \n26     Sehr geehrte Frau Präsidentin! Liebe Kolleginn...   \n25     Frau Präsidentin! Liebe Kolleginnen und Kolleg...   \n24     Sehr geehrte Frau Präsidentin! Liebe Kolleginn...   \n34     Sehr geehrte Frau Präsidentin! Werte – –\\n\\n(D...   \n0      Frau Präsidentin! Liebe Kolleginnen und Kolleg...   \n\n               speaker_party  \n26066              DIE LINKE  \n26053                    SPD  \n26054                CDU/CSU  \n26055  BÜNDNIS 90/DIE GRÜNEN  \n26056                    FDP  \n...                      ...  \n26     BÜNDNIS 90/DIE GRÜNEN  \n25                   CDU/CSU  \n24                       SPD  \n34                       SPD  \n0                        FDP  \n\n[26067 rows x 3 columns]",
      "text/html": "<div>\n<style scoped>\n    .dataframe tbody tr th:only-of-type {\n        vertical-align: middle;\n    }\n\n    .dataframe tbody tr th {\n        vertical-align: top;\n    }\n\n    .dataframe thead th {\n        text-align: right;\n    }\n</style>\n<table border=\"1\" class=\"dataframe\">\n  <thead>\n    <tr style=\"text-align: right;\">\n      <th></th>\n      <th>processed_text</th>\n      <th>text</th>\n      <th>speaker_party</th>\n    </tr>\n  </thead>\n  <tbody>\n    <tr>\n      <th>26066</th>\n      <td>ich nehme die wahl an und freue mich auf die z...</td>\n      <td>Frau Präsidentin, ich nehme die Wahl an und fr...</td>\n      <td>DIE LINKE</td>\n    </tr>\n    <tr>\n      <th>26053</th>\n      <td>so muss ich es jetzt sagen, genau; ich muss mi...</td>\n      <td>Sehr geehrter Herr Alterspräsident! So muss ic...</td>\n      <td>SPD</td>\n    </tr>\n    <tr>\n      <th>26054</th>\n      <td>die konstituierung des bundestages ist ein fes...</td>\n      <td>Herr Präsident! Liebe Kolleginnen und Kollegen...</td>\n      <td>CDU/CSU</td>\n    </tr>\n    <tr>\n      <th>26055</th>\n      <td>wolfgang schäuble! sehr geehrte kolleginnen un...</td>\n      <td>Sehr geehrter Herr Alterspräsident Wolfgang Sc...</td>\n      <td>BÜNDNIS 90/DIE GRÜNEN</td>\n    </tr>\n    <tr>\n      <th>26056</th>\n      <td>als ich gestern insbesondere die neuen kollegi...</td>\n      <td>Sehr geehrter Herr Präsident! Meine lieben Kol...</td>\n      <td>FDP</td>\n    </tr>\n    <tr>\n      <th>...</th>\n      <td>...</td>\n      <td>...</td>\n      <td>...</td>\n    </tr>\n    <tr>\n      <th>26</th>\n      <td>unser alltag im bundestag ist ja oft sehr hekt...</td>\n      <td>Sehr geehrte Frau Präsidentin! Liebe Kolleginn...</td>\n      <td>BÜNDNIS 90/DIE GRÜNEN</td>\n    </tr>\n    <tr>\n      <th>25</th>\n      <td>die gute nachricht vorneweg: eine dreistündige...</td>\n      <td>Frau Präsidentin! Liebe Kolleginnen und Kolleg...</td>\n      <td>CDU/CSU</td>\n    </tr>\n    <tr>\n      <th>24</th>\n      <td>es wird in dieser so ernsten und wichtigen ang...</td>\n      <td>Sehr geehrte Frau Präsidentin! Liebe Kolleginn...</td>\n      <td>SPD</td>\n    </tr>\n    <tr>\n      <th>34</th>\n      <td>– –\\n(die abgeordneten des bsw halten transpar...</td>\n      <td>Sehr geehrte Frau Präsidentin! Werte – –\\n\\n(D...</td>\n      <td>SPD</td>\n    </tr>\n    <tr>\n      <th>0</th>\n      <td>ich möchte drei bemerkungen machen.\\nerstens, ...</td>\n      <td>Frau Präsidentin! Liebe Kolleginnen und Kolleg...</td>\n      <td>FDP</td>\n    </tr>\n  </tbody>\n</table>\n<p>26067 rows × 3 columns</p>\n</div>"
     },
     "execution_count": 16,
     "metadata": {},
     "output_type": "execute_result"
    }
   ],
   "source": [
    "df[[\"processed_text\", \"text\", \"speaker_party\"]]"
   ],
   "metadata": {
    "collapsed": false,
    "ExecuteTime": {
     "end_time": "2025-03-25T11:07:42.109111700Z",
     "start_time": "2025-03-25T11:07:42.092403Z"
    }
   }
  },
  {
   "cell_type": "code",
   "execution_count": null,
   "outputs": [],
   "source": [
    "# Load the German spaCy model\n",
    "nlp = spacy.load(\"de_core_news_sm\")\n",
    "\n",
    "# Download German stopwords\n",
    "nltk.download(\"stopwords\")\n",
    "stop_words = set(stopwords.words(\"german\"))\n",
    "\n",
    "def preprocess_text(text):\n",
    "    # Lowercasing\n",
    "    text = text.lower()\n",
    "\n",
    "    # Remove punctuation and digits\n",
    "    text = re.sub(r'\\W+', ' ', text)\n",
    "    text = re.sub(r'\\d+', '', text)\n",
    "\n",
    "\n",
    "    text = re.sub(r\"\\(.*?\\)\", \"\", text)\n",
    "\n",
    "    return \" \".join(text)"
   ],
   "metadata": {
    "collapsed": false
   }
  },
  {
   "cell_type": "code",
   "execution_count": 22,
   "outputs": [],
   "source": [
    "intro_patterns = [\n",
    "    r\"sehr geehrte frau präsidentin! meine sehr geehrten damen und herren! liebe kolleginnen und kollegen!\",\n",
    "    r\"sehr geehrte frau präsidentin! liebe kolleginnen und kollegen! meine sehr geehrten damen und herren!\",\n",
    "    r\"sehr geehrte frau präsidentin! sehr geehrte kolleginnen und kollegen! sehr geehrte damen und herren!\",\n",
    "    r\"sehr geehrte frau präsidentin! sehr geehrte kolleginnen und kollegen der demokratischen fraktionen!\"\n",
    "    r\"sehr geehrte damen und herren\",\n",
    "    r\"herr präsident[,]? meine damen und herren\",\n",
    "    r\"frau präsidentin[,]? verehrte kolleginnen und kollegen\",\n",
    "    r\"liebe kolleginnen und kollegen\"\n",
    "]"
   ],
   "metadata": {
    "collapsed": false,
    "ExecuteTime": {
     "end_time": "2025-03-20T20:52:08.841120200Z",
     "start_time": "2025-03-20T20:52:08.835586800Z"
    }
   }
  },
  {
   "cell_type": "code",
   "execution_count": 23,
   "outputs": [
    {
     "name": "stderr",
     "output_type": "stream",
     "text": [
      "[nltk_data] Downloading package stopwords to\n",
      "[nltk_data]     C:\\Users\\Chris\\AppData\\Roaming\\nltk_data...\n",
      "[nltk_data]   Package stopwords is already up-to-date!\n"
     ]
    }
   ],
   "source": [
    "# Load the German spaCy model\n",
    "nlp = spacy.load(\"de_core_news_sm\")\n",
    "\n",
    "# Download German stopwords\n",
    "nltk.download(\"stopwords\")\n",
    "stop_words = set(stopwords.words(\"german\"))\n",
    "\n",
    "def preprocess_text(text):\n",
    "    # Lowercasing\n",
    "    text = text.lower()\n",
    "\n",
    "    # Remove punctuation and digits\n",
    "    text = re.sub(r'\\W+', ' ', text)\n",
    "    text = re.sub(r'\\d+', '', text)\n",
    "\n",
    "    # Remove intro patterns\n",
    "    for pattern in intro_patterns:\n",
    "        text = re.sub(rf\"^{pattern}[:,]*\\s*\", \"\", text)  # Remove pattern if at the start\n",
    "\n",
    "    # Tokenization and Lemmatization\n",
    "    doc = nlp(text)\n",
    "    tokens = [token.lemma_ for token in doc if token.text not in stop_words and not token.is_punct and not token.is_space]\n",
    "\n",
    "    return \" \".join(tokens)"
   ],
   "metadata": {
    "collapsed": false,
    "ExecuteTime": {
     "end_time": "2025-03-20T20:52:09.416143700Z",
     "start_time": "2025-03-20T20:52:08.838117500Z"
    }
   }
  },
  {
   "cell_type": "code",
   "execution_count": 24,
   "outputs": [],
   "source": [
    "custom_stopwords = {\"sagen\", \"gehen\", \"geben\", \"kommen\", \"müssen\", \"vieler\", \"brauchen\", \"sein\", \"mal\", \"ganz\", \"sagen\", \"schon\", \"tun\"}\n",
    "\n",
    "\n",
    "# To Discuss: mehr/weniger, gut/schlecht, ja/nein, wichtig, heute,"
   ],
   "metadata": {
    "collapsed": false,
    "ExecuteTime": {
     "end_time": "2025-03-20T20:52:09.419025300Z",
     "start_time": "2025-03-20T20:52:09.416143700Z"
    }
   }
  },
  {
   "cell_type": "code",
   "execution_count": 29,
   "outputs": [],
   "source": [
    "def remove_custom_stopwords(text):\n",
    "    \"\"\"Removes custom stopwords from a lemmatized text.\"\"\"\n",
    "    tokens = text.split()  # Split text into words\n",
    "    filtered_tokens = [word for word in tokens if word not in custom_stopwords]\n",
    "    return \" \".join(filtered_tokens)"
   ],
   "metadata": {
    "collapsed": false,
    "ExecuteTime": {
     "end_time": "2025-03-20T21:31:48.115629800Z",
     "start_time": "2025-03-20T21:31:48.108119300Z"
    }
   }
  },
  {
   "cell_type": "code",
   "execution_count": 26,
   "outputs": [
    {
     "data": {
      "text/plain": "{'aber',\n 'alle',\n 'allem',\n 'allen',\n 'aller',\n 'alles',\n 'als',\n 'also',\n 'am',\n 'an',\n 'ander',\n 'andere',\n 'anderem',\n 'anderen',\n 'anderer',\n 'anderes',\n 'anderm',\n 'andern',\n 'anderr',\n 'anders',\n 'auch',\n 'auf',\n 'aus',\n 'bei',\n 'bin',\n 'bis',\n 'bist',\n 'da',\n 'damit',\n 'dann',\n 'das',\n 'dass',\n 'dasselbe',\n 'dazu',\n 'daß',\n 'dein',\n 'deine',\n 'deinem',\n 'deinen',\n 'deiner',\n 'deines',\n 'dem',\n 'demselben',\n 'den',\n 'denn',\n 'denselben',\n 'der',\n 'derer',\n 'derselbe',\n 'derselben',\n 'des',\n 'desselben',\n 'dessen',\n 'dich',\n 'die',\n 'dies',\n 'diese',\n 'dieselbe',\n 'dieselben',\n 'diesem',\n 'diesen',\n 'dieser',\n 'dieses',\n 'dir',\n 'doch',\n 'dort',\n 'du',\n 'durch',\n 'ein',\n 'eine',\n 'einem',\n 'einen',\n 'einer',\n 'eines',\n 'einig',\n 'einige',\n 'einigem',\n 'einigen',\n 'einiger',\n 'einiges',\n 'einmal',\n 'er',\n 'es',\n 'etwas',\n 'euch',\n 'euer',\n 'eure',\n 'eurem',\n 'euren',\n 'eurer',\n 'eures',\n 'für',\n 'gegen',\n 'gewesen',\n 'hab',\n 'habe',\n 'haben',\n 'hat',\n 'hatte',\n 'hatten',\n 'hier',\n 'hin',\n 'hinter',\n 'ich',\n 'ihm',\n 'ihn',\n 'ihnen',\n 'ihr',\n 'ihre',\n 'ihrem',\n 'ihren',\n 'ihrer',\n 'ihres',\n 'im',\n 'in',\n 'indem',\n 'ins',\n 'ist',\n 'jede',\n 'jedem',\n 'jeden',\n 'jeder',\n 'jedes',\n 'jene',\n 'jenem',\n 'jenen',\n 'jener',\n 'jenes',\n 'jetzt',\n 'kann',\n 'kein',\n 'keine',\n 'keinem',\n 'keinen',\n 'keiner',\n 'keines',\n 'können',\n 'könnte',\n 'machen',\n 'man',\n 'manche',\n 'manchem',\n 'manchen',\n 'mancher',\n 'manches',\n 'mein',\n 'meine',\n 'meinem',\n 'meinen',\n 'meiner',\n 'meines',\n 'mich',\n 'mir',\n 'mit',\n 'muss',\n 'musste',\n 'nach',\n 'nicht',\n 'nichts',\n 'noch',\n 'nun',\n 'nur',\n 'ob',\n 'oder',\n 'ohne',\n 'sehr',\n 'sein',\n 'seine',\n 'seinem',\n 'seinen',\n 'seiner',\n 'seines',\n 'selbst',\n 'sich',\n 'sie',\n 'sind',\n 'so',\n 'solche',\n 'solchem',\n 'solchen',\n 'solcher',\n 'solches',\n 'soll',\n 'sollte',\n 'sondern',\n 'sonst',\n 'um',\n 'und',\n 'uns',\n 'unser',\n 'unsere',\n 'unserem',\n 'unseren',\n 'unseres',\n 'unter',\n 'viel',\n 'vom',\n 'von',\n 'vor',\n 'war',\n 'waren',\n 'warst',\n 'was',\n 'weg',\n 'weil',\n 'weiter',\n 'welche',\n 'welchem',\n 'welchen',\n 'welcher',\n 'welches',\n 'wenn',\n 'werde',\n 'werden',\n 'wie',\n 'wieder',\n 'will',\n 'wir',\n 'wird',\n 'wirst',\n 'wo',\n 'wollen',\n 'wollte',\n 'während',\n 'würde',\n 'würden',\n 'zu',\n 'zum',\n 'zur',\n 'zwar',\n 'zwischen',\n 'über'}"
     },
     "execution_count": 26,
     "metadata": {},
     "output_type": "execute_result"
    }
   ],
   "source": [
    "stop_words"
   ],
   "metadata": {
    "collapsed": false,
    "ExecuteTime": {
     "end_time": "2025-03-20T20:52:09.426370Z",
     "start_time": "2025-03-20T20:52:09.422536200Z"
    }
   }
  },
  {
   "cell_type": "code",
   "execution_count": 27,
   "outputs": [
    {
     "ename": "TypeError",
     "evalue": "remove_custom_stopwords() missing 2 required positional arguments: 'text' and 'stopword_list'",
     "output_type": "error",
     "traceback": [
      "\u001B[31m---------------------------------------------------------------------------\u001B[39m",
      "\u001B[31mTypeError\u001B[39m                                 Traceback (most recent call last)",
      "\u001B[36mCell\u001B[39m\u001B[36m \u001B[39m\u001B[32mIn[27]\u001B[39m\u001B[32m, line 3\u001B[39m\n\u001B[32m      1\u001B[39m df[\u001B[33m\"\u001B[39m\u001B[33mprocessed_text\u001B[39m\u001B[33m\"\u001B[39m] = df[\u001B[33m\"\u001B[39m\u001B[33mprocessed_text\u001B[39m\u001B[33m\"\u001B[39m].astype(\u001B[38;5;28mstr\u001B[39m).apply(preprocess_text)\n\u001B[32m----> \u001B[39m\u001B[32m3\u001B[39m df[\u001B[33m\"\u001B[39m\u001B[33mprocessed_text\u001B[39m\u001B[33m\"\u001B[39m] = df[\u001B[33m\"\u001B[39m\u001B[33mprocessed_text\u001B[39m\u001B[33m\"\u001B[39m].astype(\u001B[38;5;28mstr\u001B[39m).apply(\u001B[43mremove_custom_stopwords\u001B[49m\u001B[43m(\u001B[49m\u001B[43m)\u001B[49m)\n\u001B[32m      7\u001B[39m df[\u001B[33m\"\u001B[39m\u001B[33mis_president\u001B[39m\u001B[33m\"\u001B[39m] = df[\u001B[33m\"\u001B[39m\u001B[33mis_president\u001B[39m\u001B[33m\"\u001B[39m].astype(\u001B[38;5;28mbool\u001B[39m)  \u001B[38;5;66;03m# Ensure it's Boolean (True/False)\u001B[39;00m\n\u001B[32m      9\u001B[39m \u001B[38;5;66;03m# Show processed text\u001B[39;00m\n",
      "\u001B[31mTypeError\u001B[39m: remove_custom_stopwords() missing 2 required positional arguments: 'text' and 'stopword_list'"
     ]
    }
   ],
   "source": [
    "df[\"processed_text\"] = df[\"processed_text\"].astype(str).apply(preprocess_text)"
   ],
   "metadata": {
    "collapsed": false,
    "ExecuteTime": {
     "end_time": "2025-03-20T21:27:27.496773700Z",
     "start_time": "2025-03-20T20:52:09.426370Z"
    }
   }
  },
  {
   "cell_type": "code",
   "execution_count": 30,
   "outputs": [
    {
     "name": "stdout",
     "output_type": "stream",
     "text": [
      "26225         nehmen Wahl freuen Zusammenarbeit Demokratie\n",
      "26212    genau daran gewöhnen lange lange recht lieb Ko...\n",
      "26213    Konstituierung Bundestag Festtag Demokratie We...\n",
      "26214    Wolfgang Schäuble geehrt kollegin Kollege Tat ...\n",
      "26215    gestern insbesondere neu kolleginn Kollege Fra...\n",
      "Name: processed_text, dtype: object\n"
     ]
    }
   ],
   "source": [
    "df[\"processed_text\"] = df[\"processed_text\"].astype(str).apply(remove_custom_stopwords)\n",
    "\n",
    "df[\"is_president\"] = df[\"is_president\"].astype(bool)  # Ensure it's Boolean (True/False)\n",
    "\n",
    "# Show processed text\n",
    "print(df[\"processed_text\"].head())"
   ],
   "metadata": {
    "collapsed": false,
    "ExecuteTime": {
     "end_time": "2025-03-20T21:31:51.833236900Z",
     "start_time": "2025-03-20T21:31:51.002901500Z"
    }
   }
  },
  {
   "cell_type": "code",
   "execution_count": 31,
   "outputs": [],
   "source": [
    "# Splitting of the date column into days/weeks/months/year\n",
    "df[\"date_fixed\"] = pd.to_datetime(df[\"date\"], format=\"ISO8601\")\n",
    "df[\"year\"] = df[\"date\"].dt.year\n",
    "df[\"month\"] = df[\"date\"].dt.month\n",
    "df[\"day\"] = df[\"date\"].dt.day\n"
   ],
   "metadata": {
    "collapsed": false,
    "ExecuteTime": {
     "end_time": "2025-03-20T21:31:55.272039800Z",
     "start_time": "2025-03-20T21:31:55.257082300Z"
    }
   }
  },
  {
   "cell_type": "code",
   "execution_count": 32,
   "outputs": [
    {
     "name": "stdout",
     "output_type": "stream",
     "text": [
      "Cleaned Parties: ['Die Linke' 'SPD' 'CDU/CSU' 'Bündnis 90/Die Grünen' 'FDP' 'AfD' 'nan'\n",
      " 'fraktionslos' 'Unknown' 'BSW']\n"
     ]
    }
   ],
   "source": [
    "def clean_party_name(party):\n",
    "    if pd.isna(party):\n",
    "        return \"Unknown\"\n",
    "    party = party.strip()  # Remove leading/trailing spaces\n",
    "    party = party.replace(\"\\xa0\", \" \")  # Replace non-breaking spaces with normal spaces\n",
    "    party = \" \".join(party.split())  # Remove extra spaces and newlines\n",
    "    party = party.replace(\"\\n\", \" \")  # Replace newlines with spaces\n",
    "    party = party.replace(\"DIE LINKE\", \"Die Linke\")  # Standardize \"Die Linke\"\n",
    "    party = party.replace(\"BÜNDNIS 90/DIE GRÜNEN\", \"Bündnis 90/Die Grünen\")  # Standardize\n",
    "    party = party.replace(\"Fraktionslos\", \"fraktionslos\")\n",
    "    party = party.replace(\"SPDCDU/CSU\", \"Unknown\")  # Fix odd merged entry\n",
    "    return party\n",
    "\n",
    "# Apply the cleaning function\n",
    "df[\"party_clean\"] = df[\"speaker_party\"].astype(str).apply(clean_party_name)\n",
    "\n",
    "# Get unique cleaned parties\n",
    "print(\"Cleaned Parties:\", df[\"party_clean\"].unique())"
   ],
   "metadata": {
    "collapsed": false,
    "ExecuteTime": {
     "end_time": "2025-03-20T21:31:56.773110800Z",
     "start_time": "2025-03-20T21:31:56.742106100Z"
    }
   }
  },
  {
   "cell_type": "code",
   "execution_count": 33,
   "outputs": [],
   "source": [
    "df.to_csv(\"../data/bundestag_wp20_speeches_preprocessed.csv\")"
   ],
   "metadata": {
    "collapsed": false,
    "ExecuteTime": {
     "end_time": "2025-03-20T21:31:59.326852300Z",
     "start_time": "2025-03-20T21:31:57.258450100Z"
    }
   }
  },
  {
   "cell_type": "code",
   "execution_count": null,
   "outputs": [],
   "source": [],
   "metadata": {
    "collapsed": false,
    "ExecuteTime": {
     "start_time": "2025-03-20T11:16:34.557961600Z"
    }
   }
  },
  {
   "cell_type": "code",
   "execution_count": null,
   "outputs": [],
   "source": [],
   "metadata": {
    "collapsed": false,
    "ExecuteTime": {
     "start_time": "2025-03-20T11:16:34.558962200Z"
    }
   }
  },
  {
   "cell_type": "code",
   "execution_count": null,
   "outputs": [],
   "source": [],
   "metadata": {
    "collapsed": false,
    "ExecuteTime": {
     "start_time": "2025-03-20T11:16:34.559963300Z"
    }
   }
  },
  {
   "cell_type": "code",
   "execution_count": null,
   "outputs": [],
   "source": [],
   "metadata": {
    "collapsed": false,
    "ExecuteTime": {
     "start_time": "2025-03-20T11:16:34.559963300Z"
    }
   }
  },
  {
   "cell_type": "code",
   "execution_count": null,
   "outputs": [],
   "source": [],
   "metadata": {
    "collapsed": false,
    "ExecuteTime": {
     "start_time": "2025-03-20T11:16:34.560964300Z"
    }
   }
  },
  {
   "cell_type": "code",
   "execution_count": null,
   "outputs": [],
   "source": [],
   "metadata": {
    "collapsed": false,
    "ExecuteTime": {
     "start_time": "2025-03-20T11:16:34.561965200Z"
    }
   }
  }
 ],
 "metadata": {
  "kernelspec": {
   "display_name": "Python 3",
   "language": "python",
   "name": "python3"
  },
  "language_info": {
   "codemirror_mode": {
    "name": "ipython",
    "version": 2
   },
   "file_extension": ".py",
   "mimetype": "text/x-python",
   "name": "python",
   "nbconvert_exporter": "python",
   "pygments_lexer": "ipython2",
   "version": "2.7.6"
  }
 },
 "nbformat": 4,
 "nbformat_minor": 0
}
